{
 "cells": [
  {
   "cell_type": "code",
   "execution_count": 3,
   "id": "ddf2d169",
   "metadata": {},
   "outputs": [],
   "source": [
    "from pyecharts.charts import Map,Geo\n",
    "from pyecharts import options as opts\n",
    "import random\n",
    "city = ['北京', '天津', '上海', '广州', '阿拉善盟', '株洲','中卫']\n",
    "data_city = [(i, random.randint(100, 200)) for i in city]\n",
    "china_city = (\n",
    "    Map()\n",
    "    .add(\n",
    "        \"\",\n",
    "        data_city,\n",
    "        \"china-cities\",\n",
    "        label_opts=opts.LabelOpts(is_show=False),\n",
    "    )\n",
    "    .set_global_opts(\n",
    "        title_opts=opts.TitleOpts(title=\"中国市级地图\"),\n",
    "        visualmap_opts=opts.VisualMapOpts(\n",
    "            min_=100,\n",
    "            max_=200,\n",
    "            is_piecewise=True\n",
    "        ),\n",
    "    )\n",
    "    .render(\"中国地级市地图.html\")\n",
    ")"
   ]
  },
  {
   "cell_type": "code",
   "execution_count": 4,
   "id": "7538ef95",
   "metadata": {},
   "outputs": [
    {
     "data": {
      "text/plain": [
       "[('北京', 176),\n",
       " ('天津', 109),\n",
       " ('上海', 177),\n",
       " ('广州', 171),\n",
       " ('阿拉善盟', 121),\n",
       " ('株洲', 172),\n",
       " ('中卫', 134)]"
      ]
     },
     "execution_count": 4,
     "metadata": {},
     "output_type": "execute_result"
    }
   ],
   "source": [
    "data_city"
   ]
  },
  {
   "cell_type": "code",
   "execution_count": null,
   "id": "68085d45",
   "metadata": {},
   "outputs": [],
   "source": [
    "    "
   ]
  }
 ],
 "metadata": {
  "kernelspec": {
   "display_name": "Python 3 (ipykernel)",
   "language": "python",
   "name": "python3"
  },
  "language_info": {
   "codemirror_mode": {
    "name": "ipython",
    "version": 3
   },
   "file_extension": ".py",
   "mimetype": "text/x-python",
   "name": "python",
   "nbconvert_exporter": "python",
   "pygments_lexer": "ipython3",
   "version": "3.7.12"
  }
 },
 "nbformat": 4,
 "nbformat_minor": 5
}
